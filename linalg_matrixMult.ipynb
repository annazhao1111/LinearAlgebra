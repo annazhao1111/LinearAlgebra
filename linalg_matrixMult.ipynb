{
  "nbformat": 4,
  "nbformat_minor": 0,
  "metadata": {
    "kernelspec": {
      "display_name": "Python 3",
      "language": "python",
      "name": "python3"
    },
    "language_info": {
      "codemirror_mode": {
        "name": "ipython",
        "version": 3
      },
      "file_extension": ".py",
      "mimetype": "text/x-python",
      "name": "python",
      "nbconvert_exporter": "python",
      "pygments_lexer": "ipython3",
      "version": "3.7.3"
    },
    "colab": {
      "name": "linalg_matrixMult.ipynb",
      "provenance": [],
      "include_colab_link": true
    }
  },
  "cells": [
    {
      "cell_type": "markdown",
      "metadata": {
        "id": "view-in-github",
        "colab_type": "text"
      },
      "source": [
        "<a href=\"https://colab.research.google.com/github/annazhao1111/LinearAlgebra/blob/master/linalg_matrixMult.ipynb\" target=\"_parent\"><img src=\"https://colab.research.google.com/assets/colab-badge.svg\" alt=\"Open In Colab\"/></a>"
      ]
    },
    {
      "cell_type": "code",
      "metadata": {
        "id": "DdrAJKkhuetX",
        "colab_type": "code",
        "colab": {}
      },
      "source": [
        "import numpy as np\n",
        "import matplotlib.pyplot as plt\n",
        "import math"
      ],
      "execution_count": 1,
      "outputs": []
    },
    {
      "cell_type": "markdown",
      "metadata": {
        "id": "K6N1xpcguetb",
        "colab_type": "text"
      },
      "source": [
        "\n",
        "---\n",
        "# VIDEO: Standard matrix multiplication, parts 1 & 2\n",
        "---\n"
      ]
    },
    {
      "cell_type": "code",
      "metadata": {
        "id": "vtjiVGTouetc",
        "colab_type": "code",
        "colab": {
          "base_uri": "https://localhost:8080/",
          "height": 85
        },
        "outputId": "3d1a7321-10c7-47c2-c737-1fb33e5b36c7"
      },
      "source": [
        "## rules for multiplication validity\n",
        "\n",
        "m = 4\n",
        "n = 3\n",
        "k = 6\n",
        "\n",
        "# make some matrices\n",
        "A = np.random.randn(m,n)\n",
        "B = np.random.randn(n,k)\n",
        "C = np.random.randn(m,k)\n",
        "\n",
        "# test which multiplications are valid.\n",
        "# Think of your answer first, then test.\n",
        "np.matmul(A,B)\n",
        "# np.matmul(A,A)\n",
        "np.matmul(A.T,C)\n",
        "np.matmul(B,B.T)\n",
        "np.matmul(np.matrix.transpose(B),B)\n",
        "# np.matmul(B,C)\n",
        "# np.matmul(C,B)\n",
        "# np.matmul(C.T,B)\n",
        "np.matmul(C,B.T)"
      ],
      "execution_count": 2,
      "outputs": [
        {
          "output_type": "execute_result",
          "data": {
            "text/plain": [
              "array([[ 1.02752939, -0.4477923 , -1.39616907],\n",
              "       [ 2.28472284, -1.56596313,  1.81720521],\n",
              "       [ 4.35302387,  0.52346246,  3.07487259],\n",
              "       [ 2.37205084,  2.28074658,  5.21744186]])"
            ]
          },
          "metadata": {
            "tags": []
          },
          "execution_count": 2
        }
      ]
    },
    {
      "cell_type": "code",
      "metadata": {
        "id": "QM7APxVy1zN1",
        "colab_type": "code",
        "colab": {
          "base_uri": "https://localhost:8080/",
          "height": 170
        },
        "outputId": "b6950449-c307-4279-fc5c-8e2fb1ceedf2"
      },
      "source": [
        "# generate two matrics\n",
        "m = 4\n",
        "n = 6\n",
        "\n",
        "A = np.random.randn(m,n)\n",
        "B = np.random.randn(n,m)\n",
        "\n",
        "# build the product matrix layer-wise\n",
        "C1 = np.zeros((m,m))\n",
        "for i in range(n):\n",
        "  C1 += np.outer(A[:,i],B[i,:])\n",
        "\n",
        "C2 = A@B\n",
        "print(C1)\n",
        "print('***************')\n",
        "print(C2)"
      ],
      "execution_count": null,
      "outputs": [
        {
          "output_type": "stream",
          "text": [
            "[[ 0.54708341  1.2268132  -3.51080333 -1.79233676]\n",
            " [ 0.34709219  1.6780736  -2.81703793 -1.39097889]\n",
            " [ 1.13899367 -2.17685541  0.87013433 -3.50197825]\n",
            " [-1.91324614  0.8211735  -0.17647699  0.20609536]]\n",
            "***************\n",
            "[[ 0.54708341  1.2268132  -3.51080333 -1.79233676]\n",
            " [ 0.34709219  1.6780736  -2.81703793 -1.39097889]\n",
            " [ 1.13899367 -2.17685541  0.87013433 -3.50197825]\n",
            " [-1.91324614  0.8211735  -0.17647699  0.20609536]]\n"
          ],
          "name": "stdout"
        }
      ]
    },
    {
      "cell_type": "markdown",
      "metadata": {
        "id": "F3zN8D9Wuete",
        "colab_type": "text"
      },
      "source": [
        "\n",
        "---\n",
        "# VIDEO: Order-of-operations on matrices\n",
        "---\n"
      ]
    },
    {
      "cell_type": "code",
      "metadata": {
        "id": "7_KEQwUtuetf",
        "colab_type": "code",
        "colab": {
          "base_uri": "https://localhost:8080/",
          "height": 850
        },
        "outputId": "ed78f27e-7750-4af1-e293-f22d1953825d"
      },
      "source": [
        "\n",
        "n = 7\n",
        "L = np.random.randn(n,n)\n",
        "I = np.random.randn(n,n)\n",
        "V = np.random.randn(n,n)\n",
        "E = np.random.randn(n,n)\n",
        "\n",
        "# result of \"forward\" multiplication and then transpose\n",
        "res1 = np.matrix.transpose( L @ I @ V @ E )\n",
        "\n",
        "# result of \"flipped\" multiplication of transposed matrices\n",
        "res2 = E.T @ V.T @ I.T @ L.T\n",
        "\n",
        "# test equality by subtracting (ignore possible computer rounding errors)\n",
        "res1,res2, res1-res2"
      ],
      "execution_count": null,
      "outputs": [
        {
          "output_type": "execute_result",
          "data": {
            "text/plain": [
              "(array([[-25.28221843, -22.93158596,  -6.57225799, -27.47915121,\n",
              "         -22.91751395,   2.94699949,   3.49903105],\n",
              "        [-22.14852348,   4.29664104, -17.72699101,  15.70001264,\n",
              "         -14.02121649,  -0.80807623, -10.80773677],\n",
              "        [ -7.58790798, -26.53500378, -16.52201569, -41.7106144 ,\n",
              "         -19.08800198,  -0.49099908,   8.39923993],\n",
              "        [ 22.42431347,  47.9075387 , -14.92123693,  17.74158815,\n",
              "          17.07951494, -32.63457857, -23.56808738],\n",
              "        [-47.79978691, -21.17049018,  -6.03633632,   9.67548308,\n",
              "         -28.90737378,  15.47484611,  -1.44866241],\n",
              "        [ -4.49913836,  -9.2232171 ,  -2.89719274,  -4.59620317,\n",
              "          -2.98384247,  19.19260243,   3.69496847],\n",
              "        [  8.01823574, -28.71142009,  16.12769173, -19.67812246,\n",
              "           3.15307249,  36.82030872,  22.19101712]]),\n",
              " array([[-25.28221843, -22.93158596,  -6.57225799, -27.47915121,\n",
              "         -22.91751395,   2.94699949,   3.49903105],\n",
              "        [-22.14852348,   4.29664104, -17.72699101,  15.70001264,\n",
              "         -14.02121649,  -0.80807623, -10.80773677],\n",
              "        [ -7.58790798, -26.53500378, -16.52201569, -41.7106144 ,\n",
              "         -19.08800198,  -0.49099908,   8.39923993],\n",
              "        [ 22.42431347,  47.9075387 , -14.92123693,  17.74158815,\n",
              "          17.07951494, -32.63457857, -23.56808738],\n",
              "        [-47.79978691, -21.17049018,  -6.03633632,   9.67548308,\n",
              "         -28.90737378,  15.47484611,  -1.44866241],\n",
              "        [ -4.49913836,  -9.2232171 ,  -2.89719274,  -4.59620317,\n",
              "          -2.98384247,  19.19260243,   3.69496847],\n",
              "        [  8.01823574, -28.71142009,  16.12769173, -19.67812246,\n",
              "           3.15307249,  36.82030872,  22.19101712]]),\n",
              " array([[-7.10542736e-15,  0.00000000e+00,  2.66453526e-15,\n",
              "          3.55271368e-15,  0.00000000e+00,  4.88498131e-15,\n",
              "         -1.77635684e-15],\n",
              "        [ 7.10542736e-15,  4.44089210e-15,  3.55271368e-15,\n",
              "         -3.55271368e-15, -1.77635684e-15, -1.66533454e-15,\n",
              "          0.00000000e+00],\n",
              "        [-7.99360578e-15, -7.10542736e-15, -7.10542736e-15,\n",
              "          7.10542736e-15, -3.55271368e-15,  1.33226763e-15,\n",
              "         -1.77635684e-15],\n",
              "        [ 1.42108547e-14,  0.00000000e+00, -1.77635684e-15,\n",
              "         -3.55271368e-15,  0.00000000e+00,  7.10542736e-15,\n",
              "          1.06581410e-14],\n",
              "        [ 1.42108547e-14,  3.55271368e-15,  8.88178420e-15,\n",
              "          5.32907052e-15,  3.55271368e-15, -5.32907052e-15,\n",
              "          4.44089210e-16],\n",
              "        [-3.55271368e-15,  3.55271368e-15,  9.32587341e-15,\n",
              "          4.44089210e-15, -4.44089210e-16,  0.00000000e+00,\n",
              "         -1.33226763e-15],\n",
              "        [-2.13162821e-14,  0.00000000e+00, -1.06581410e-14,\n",
              "         -3.55271368e-15, -4.44089210e-16, -2.13162821e-14,\n",
              "          0.00000000e+00]]))"
            ]
          },
          "metadata": {
            "tags": []
          },
          "execution_count": 9
        }
      ]
    },
    {
      "cell_type": "markdown",
      "metadata": {
        "id": "LPeR8onvueth",
        "colab_type": "text"
      },
      "source": [
        "\n",
        "---\n",
        "# VIDEO: Matrix-vector multiplication\n",
        "---\n"
      ]
    },
    {
      "cell_type": "code",
      "metadata": {
        "id": "BvNQu_HHueth",
        "colab_type": "code",
        "colab": {
          "base_uri": "https://localhost:8080/",
          "height": 272
        },
        "outputId": "b5138c38-8f10-4f51-d989-8ddbff78502b"
      },
      "source": [
        "\n",
        "# number of elements\n",
        "m = 4\n",
        "\n",
        "# create matrices\n",
        "N = np.random.randint(-10,11,(m,m))\n",
        "S = np.round( N.T*N / m**2 ) # scaled symmetric\n",
        "print(S)\n",
        "print('**************')\n",
        "\n",
        "# and vector\n",
        "w = np.array([-1, 0, 1, 2])\n",
        "\n",
        "# with symmetric matrix\n",
        "print( S@w )     # 1\n",
        "print( S.T@w )   # 2\n",
        "print( w@S )     # 3\n",
        "print( w.T@S.T ) # 4\n",
        "print( w.T@S )   # 5\n",
        "\n",
        "\n",
        "# with nonsymmetric matrix\n",
        "print( N@w )     # 1\n",
        "print( N.T@w )   # 2\n",
        "print( w@N )     # 3\n",
        "print( w.T@N.T ) # 4\n",
        "print( w.T@N )   # 5\n"
      ],
      "execution_count": null,
      "outputs": [
        {
          "output_type": "stream",
          "text": [
            "[[ 2.  0. -0. -4.]\n",
            " [ 0.  0.  0.  2.]\n",
            " [-0.  0.  2. -0.]\n",
            " [-4.  2. -0.  0.]]\n",
            "**************\n",
            "[-10.   4.   2.   4.]\n",
            "[-10.   4.   2.   4.]\n",
            "[-10.   4.   2.   4.]\n",
            "[-10.   4.   2.   4.]\n",
            "[-10.   4.   2.   4.]\n",
            "[-29   8  -4  -3]\n",
            "[13  8 16  8]\n",
            "[13  8 16  8]\n",
            "[-29   8  -4  -3]\n",
            "[13  8 16  8]\n"
          ],
          "name": "stdout"
        }
      ]
    },
    {
      "cell_type": "markdown",
      "metadata": {
        "id": "ddF7pXuDuetj",
        "colab_type": "text"
      },
      "source": [
        "\n",
        "---\n",
        "# VIDEO: 2D transformation matrices\n",
        "---\n"
      ]
    },
    {
      "cell_type": "code",
      "metadata": {
        "id": "D8Fh5jLiuetk",
        "colab_type": "code",
        "colab": {
          "base_uri": "https://localhost:8080/",
          "height": 349
        },
        "outputId": "73963cf2-9e3a-4b5e-cb4c-5387cc0542a2"
      },
      "source": [
        "# 2D input vector\n",
        "v = np.array([ 3, -2 ])\n",
        "\n",
        "# 2x2 transformation matrix\n",
        "A = np.array([ [1,-1], [2,1] ])\n",
        "\n",
        "# output vector is Av (convert v to column)\n",
        "w = A@np.matrix.transpose(v)\n",
        "\n",
        "print(A)\n",
        "print('**************')\n",
        "print(w)\n",
        "\n",
        "# plot them\n",
        "plt.plot([0,v[0]],[0,v[1]],label='v')\n",
        "plt.plot([0,w[0]],[0,w[1]],label='Av')\n",
        "\n",
        "plt.grid()\n",
        "plt.axis((-6, 6, -6, 6))\n",
        "plt.legend()\n",
        "plt.title('Rotation + stretching')\n",
        "plt.show()"
      ],
      "execution_count": null,
      "outputs": [
        {
          "output_type": "stream",
          "text": [
            "[[ 1 -1]\n",
            " [ 2  1]]\n",
            "**************\n",
            "[5 4]\n"
          ],
          "name": "stdout"
        },
        {
          "output_type": "display_data",
          "data": {
            "image/png": "[encoded data removed]",
            "text/plain": [
              "<Figure size 432x288 with 1 Axes>"
            ]
          },
          "metadata": {
            "tags": [],
            "needs_background": "light"
          }
        }
      ]
    },
    {
      "cell_type": "code",
      "metadata": {
        "id": "M6YVUkQnuetm",
        "colab_type": "code",
        "colab": {
          "base_uri": "https://localhost:8080/",
          "height": 281
        },
        "outputId": "db1a8d38-8144-46a8-c015-599dffe58258"
      },
      "source": [
        "## pure rotation\n",
        "\n",
        "# 2D input vector\n",
        "v = np.array([ 3, -2 ])\n",
        "\n",
        "# 2x2 rotation matrix\n",
        "th = 5*np.pi/24\n",
        "A = np.array([ [math.cos(th),-math.sin(th)], [math.sin(th),math.cos(th)] ])\n",
        "\n",
        "# output vector is Av (convert v to column)\n",
        "w = A@np.matrix.transpose(v)\n",
        "\n",
        "\n",
        "# plot them\n",
        "plt.plot([0,v[0]],[0,v[1]],label='v')\n",
        "plt.plot([0,w[0]],[0,w[1]],label='Av')\n",
        "\n",
        "plt.grid()\n",
        "plt.axis((-4, 4, -4, 4))\n",
        "plt.legend()\n",
        "plt.title('Pure rotation')\n",
        "plt.show()"
      ],
      "execution_count": null,
      "outputs": [
        {
          "output_type": "display_data",
          "data": {
            "image/png": "[encoded data removed]",
            "text/plain": [
              "<Figure size 432x288 with 1 Axes>"
            ]
          },
          "metadata": {
            "tags": [],
            "needs_background": "light"
          }
        }
      ]
    },
    {
      "cell_type": "markdown",
      "metadata": {
        "id": "uTy1tFDEueto",
        "colab_type": "text"
      },
      "source": [
        "\n",
        "---\n",
        "# VIDEO: Additive and multiplicative matrix identities\n",
        "---\n"
      ]
    },
    {
      "cell_type": "code",
      "metadata": {
        "id": "tLqnh5Y_ueto",
        "colab_type": "code",
        "colab": {
          "base_uri": "https://localhost:8080/",
          "height": 34
        },
        "outputId": "52df7589-ef8f-4254-b675-1c0d56347a6a"
      },
      "source": [
        "# size of matrices\n",
        "n = 4\n",
        "\n",
        "# create the matrices\n",
        "A = np.round( 10*np.random.randn(n,n) )\n",
        "I = np.eye(n)\n",
        "Z = np.zeros((n,n))\n",
        "\n",
        "# test both identities\n",
        "np.array_equal( A@I , A   )\n",
        "np.array_equal( A   , A@I )\n",
        "np.array_equal( A   , A+I )\n",
        "\n",
        "np.array_equal( A   , A+I )\n",
        "np.array_equal( A+Z , A@I )\n"
      ],
      "execution_count": null,
      "outputs": [
        {
          "output_type": "execute_result",
          "data": {
            "text/plain": [
              "True"
            ]
          },
          "metadata": {
            "tags": []
          },
          "execution_count": 14
        }
      ]
    },
    {
      "cell_type": "markdown",
      "metadata": {
        "id": "G-1f4hHEuetq",
        "colab_type": "text"
      },
      "source": [
        "\n",
        "---\n",
        "# VIDEO: Additive and multiplicative symmetric matrices\n",
        "---\n"
      ]
    },
    {
      "cell_type": "code",
      "metadata": {
        "id": "qD4K1t-7uetr",
        "colab_type": "code",
        "colab": {
          "base_uri": "https://localhost:8080/",
          "height": 102
        },
        "outputId": "42aa7e0b-7058-4bf6-fb71-a3bdbf157ace"
      },
      "source": [
        "## the additive method\n",
        "\n",
        "# specify sizes\n",
        "m = 5\n",
        "n = 5\n",
        "\n",
        "# create matrices\n",
        "A = np.random.randn(m,n)\n",
        "S = ( A + A.T )/2\n",
        "\n",
        "# A symmetric matrix minus its transpose should be all zeros\n",
        "print( S-S.T )\n"
      ],
      "execution_count": null,
      "outputs": [
        {
          "output_type": "stream",
          "text": [
            "[[0. 0. 0. 0. 0.]\n",
            " [0. 0. 0. 0. 0.]\n",
            " [0. 0. 0. 0. 0.]\n",
            " [0. 0. 0. 0. 0.]\n",
            " [0. 0. 0. 0. 0.]]\n"
          ],
          "name": "stdout"
        }
      ]
    },
    {
      "cell_type": "code",
      "metadata": {
        "id": "knhVbMa7uets",
        "colab_type": "code",
        "colab": {
          "base_uri": "https://localhost:8080/",
          "height": 187
        },
        "outputId": "6bf755fe-1e21-498c-e2d4-25b933a8421c"
      },
      "source": [
        "## the multiplicative method\n",
        "\n",
        "# specify sizes\n",
        "m = 5\n",
        "n = 3\n",
        "\n",
        "# create matrices\n",
        "A   = np.random.randn(m,n)\n",
        "AtA = A.T@A\n",
        "AAt = A@A.T\n",
        "\n",
        "# first, show that they are square\n",
        "print( AtA.shape )\n",
        "print( AAt.shape )\n",
        "\n",
        "\n",
        "# next, show that they are symmetric\n",
        "print( AtA - AtA.T )\n",
        "print( AAt - AAt.T )\n",
        "\n"
      ],
      "execution_count": null,
      "outputs": [
        {
          "output_type": "stream",
          "text": [
            "(3, 3)\n",
            "(5, 5)\n",
            "[[0. 0. 0.]\n",
            " [0. 0. 0.]\n",
            " [0. 0. 0.]]\n",
            "[[0. 0. 0. 0. 0.]\n",
            " [0. 0. 0. 0. 0.]\n",
            " [0. 0. 0. 0. 0.]\n",
            " [0. 0. 0. 0. 0.]\n",
            " [0. 0. 0. 0. 0.]]\n"
          ],
          "name": "stdout"
        }
      ]
    },
    {
      "cell_type": "markdown",
      "metadata": {
        "id": "tjosHT3buetu",
        "colab_type": "text"
      },
      "source": [
        "\n",
        "---\n",
        "# VIDEO: Element-wise (Hadamard) multiplication\n",
        "---\n"
      ]
    },
    {
      "cell_type": "code",
      "metadata": {
        "id": "y1eWnvG3uetu",
        "colab_type": "code",
        "colab": {
          "base_uri": "https://localhost:8080/",
          "height": 714
        },
        "outputId": "4ca314ba-9668-4fe8-d074-add1bc785070"
      },
      "source": [
        "# any matrix sizes\n",
        "m = 13\n",
        "n =  2\n",
        "\n",
        "# ...but the two matrices must be the same size\n",
        "A = np.random.randn(m,n)\n",
        "B = np.random.randn(m,n)\n",
        "\n",
        "# note the different syntax compared to @ for matrix multiplication\n",
        "C1 = np.multiply( A,B )\n",
        "C2 = A*B\n",
        "\n",
        "print(C1), print(' ')\n",
        "print(C2), print(' ')\n",
        "\n",
        "print(C1-C2)\n"
      ],
      "execution_count": null,
      "outputs": [
        {
          "output_type": "stream",
          "text": [
            "[[-0.0196812  -0.37667283]\n",
            " [-0.03181428  0.07495601]\n",
            " [-2.15673206  0.02356694]\n",
            " [-0.44835313  0.00721162]\n",
            " [ 0.05232626  0.08359739]\n",
            " [ 1.33298399 -0.08144413]\n",
            " [ 0.51544117 -2.95938127]\n",
            " [-0.17639745 -1.59699215]\n",
            " [-0.50649918 -0.14527964]\n",
            " [ 0.17267021  0.23908228]\n",
            " [-0.22786848  0.12340205]\n",
            " [ 0.050619    0.16189443]\n",
            " [-0.11815422  1.02131861]]\n",
            " \n",
            "[[-0.0196812  -0.37667283]\n",
            " [-0.03181428  0.07495601]\n",
            " [-2.15673206  0.02356694]\n",
            " [-0.44835313  0.00721162]\n",
            " [ 0.05232626  0.08359739]\n",
            " [ 1.33298399 -0.08144413]\n",
            " [ 0.51544117 -2.95938127]\n",
            " [-0.17639745 -1.59699215]\n",
            " [-0.50649918 -0.14527964]\n",
            " [ 0.17267021  0.23908228]\n",
            " [-0.22786848  0.12340205]\n",
            " [ 0.050619    0.16189443]\n",
            " [-0.11815422  1.02131861]]\n",
            " \n",
            "[[0. 0.]\n",
            " [0. 0.]\n",
            " [0. 0.]\n",
            " [0. 0.]\n",
            " [0. 0.]\n",
            " [0. 0.]\n",
            " [0. 0.]\n",
            " [0. 0.]\n",
            " [0. 0.]\n",
            " [0. 0.]\n",
            " [0. 0.]\n",
            " [0. 0.]\n",
            " [0. 0.]]\n"
          ],
          "name": "stdout"
        }
      ]
    },
    {
      "cell_type": "code",
      "metadata": {
        "id": "vgd03Ypuxdg8",
        "colab_type": "code",
        "colab": {
          "base_uri": "https://localhost:8080/",
          "height": 527
        },
        "outputId": "e51b7b53-b5f8-45c7-89b7-a7fd2de3bc83"
      },
      "source": [
        "# create two symmetric matrices\n",
        "m = 3\n",
        "A = np.random.randint(0,10,(m,m))\n",
        "AtA = A.T @ A\n",
        "\n",
        "B = np.random.randint(0,10,(m,m))\n",
        "BtB = B.T @ B\n",
        "print(AtA)\n",
        "print(BtB)\n",
        "\n",
        "# compute sum, multiplication and Hadamard multiplication\n",
        "Cs = AtA + BtB\n",
        "Cm = AtA @ BtB\n",
        "Ch = AtA * BtB\n",
        "\n",
        "print('***************')\n",
        "print(Cs)\n",
        "print('***************')\n",
        "print(Cm)\n",
        "print('***************')\n",
        "print(Ch)\n",
        "\n",
        "# determine whether result is symmetric\n",
        "print('---------------------')\n",
        "print(Cs-Cs.T)\n",
        "print('***************')\n",
        "print(Cm-Cm.T)\n",
        "print('***************')\n",
        "print(Ch-Ch.T)"
      ],
      "execution_count": null,
      "outputs": [
        {
          "output_type": "stream",
          "text": [
            "[[18 22  9]\n",
            " [22 42 25]\n",
            " [ 9 25 18]]\n",
            "[[ 35  36  41]\n",
            " [ 36 104  90]\n",
            " [ 41  90 101]]\n",
            "***************\n",
            "[[ 53  58  50]\n",
            " [ 58 146 115]\n",
            " [ 50 115 119]]\n",
            "***************\n",
            "[[1791 3746 3627]\n",
            " [3307 7410 7207]\n",
            " [1953 4544 4437]]\n",
            "***************\n",
            "[[ 630  792  369]\n",
            " [ 792 4368 2250]\n",
            " [ 369 2250 1818]]\n",
            "---------------------\n",
            "[[0 0 0]\n",
            " [0 0 0]\n",
            " [0 0 0]]\n",
            "***************\n",
            "[[    0   439  1674]\n",
            " [ -439     0  2663]\n",
            " [-1674 -2663     0]]\n",
            "***************\n",
            "[[0 0 0]\n",
            " [0 0 0]\n",
            " [0 0 0]]\n"
          ],
          "name": "stdout"
        }
      ]
    },
    {
      "cell_type": "markdown",
      "metadata": {
        "id": "JRRxtNnvuetx",
        "colab_type": "text"
      },
      "source": [
        "\n",
        "---\n",
        "# VIDEO: Multiplication of two symmetric matrices\n",
        "---\n"
      ]
    },
    {
      "cell_type": "code",
      "metadata": {
        "id": "NE05ez2Xuety",
        "colab_type": "code",
        "colab": {
          "base_uri": "https://localhost:8080/",
          "height": 187
        },
        "outputId": "04dd7598-99a6-4650-a3a0-2f1b941c9d08"
      },
      "source": [
        "# using the sympy library\n",
        "from sympy import *\n",
        "\n",
        "a,b,c,d,e,f,g,h,k,l,m,n,o,p,q,r,s,t,u = symbols('a b c d e f g h k l m n o p q r s t u', real=True)\n",
        "\n",
        "# symmetric and constant-diagonal matrices\n",
        "A = Matrix([ [a,b,c,d],\n",
        "             [b,a,e,f],\n",
        "             [c,e,a,h],\n",
        "             [d,f,h,a]   ])\n",
        "\n",
        "B = Matrix([ [l,m,n,o],\n",
        "             [m,l,q,r],\n",
        "             [n,q,l,t],\n",
        "             [o,r,t,l]   ])\n",
        "\n",
        "\n",
        "# confirmation that A and B are symmetric\n",
        "print( A - A.transpose() )\n",
        "print( B - B.transpose() )\n",
        "\n",
        "# ... and constant diagonal\n",
        "for i in range(0,np.size(A,0)):\n",
        "    print( A[i,i] )\n",
        "for i in range(0,np.size(B,0)):\n",
        "    print( B[i,i] )\n"
      ],
      "execution_count": null,
      "outputs": [
        {
          "output_type": "stream",
          "text": [
            "Matrix([[0, 0, 0, 0], [0, 0, 0, 0], [0, 0, 0, 0], [0, 0, 0, 0]])\n",
            "Matrix([[0, 0, 0, 0], [0, 0, 0, 0], [0, 0, 0, 0], [0, 0, 0, 0]])\n",
            "a\n",
            "a\n",
            "a\n",
            "a\n",
            "l\n",
            "l\n",
            "l\n",
            "l\n"
          ],
          "name": "stdout"
        }
      ]
    },
    {
      "cell_type": "code",
      "metadata": {
        "id": "arXZB1ltuet0",
        "colab_type": "code",
        "colab": {
          "base_uri": "https://localhost:8080/",
          "height": 78
        },
        "outputId": "34a84b1b-a258-4a77-e637-4722834b0da3"
      },
      "source": [
        "# nice printing in sympy\n",
        "init_printing()\n",
        "\n",
        "# but AB neq (AB)'\n",
        "A@B - (A@B).T\n",
        "\n",
        "# maybe for a submatrix?\n",
        "n = 3\n",
        "A1 = A[ 0:n,0:n ]\n",
        "B1 = B[ 0:n,0:n ]\n",
        "\n",
        "A1@B1 - (A1@B1).T"
      ],
      "execution_count": null,
      "outputs": [
        {
          "output_type": "execute_result",
          "data": {
            "text/latex": "$$\\left[\\begin{matrix}0 & c q - e n & b q - e m\\\\- c q + e n & 0 & b n - c m\\\\- b q + e m & - b n + c m & 0\\end{matrix}\\right]$$",
            "text/plain": [
              "⎡    0       c⋅q - e⋅n   b⋅q - e⋅m⎤\n",
              "⎢                                 ⎥\n",
              "⎢-c⋅q + e⋅n      0       b⋅n - c⋅m⎥\n",
              "⎢                                 ⎥\n",
              "⎣-b⋅q + e⋅m  -b⋅n + c⋅m      0    ⎦"
            ]
          },
          "metadata": {
            "tags": []
          },
          "execution_count": 12
        }
      ]
    },
    {
      "cell_type": "code",
      "metadata": {
        "id": "KrGYpbdWC1i4",
        "colab_type": "code",
        "colab": {
          "base_uri": "https://localhost:8080/",
          "height": 204
        },
        "outputId": "75b9a2b1-8a4c-4132-9b7a-5ad211692537"
      },
      "source": [
        "# create two square matrices: \"full\" and diagonal\n",
        "A = np.random.randn(4,4)\n",
        "D = np.diag(np.random.randn(4))\n",
        "# print(A)\n",
        "# print(D)\n",
        "\n",
        "# multiply each matrix by itself: standard and hadamard\n",
        "# print(A@A), print('')\n",
        "# print(A*A), print('')\n",
        "\n",
        "print(D@D), print('')\n",
        "print(D*D), print('')"
      ],
      "execution_count": null,
      "outputs": [
        {
          "output_type": "stream",
          "text": [
            "[[2.08689223 0.         0.         0.        ]\n",
            " [0.         0.01403189 0.         0.        ]\n",
            " [0.         0.         0.01206824 0.        ]\n",
            " [0.         0.         0.         0.89616455]]\n",
            "\n",
            "[[2.08689223 0.         0.         0.        ]\n",
            " [0.         0.01403189 0.         0.        ]\n",
            " [0.         0.         0.01206824 0.        ]\n",
            " [0.         0.         0.         0.89616455]]\n",
            "\n"
          ],
          "name": "stdout"
        },
        {
          "output_type": "execute_result",
          "data": {
            "text/plain": [
              "(None, None)"
            ]
          },
          "metadata": {
            "tags": []
          },
          "execution_count": 16
        }
      ]
    },
    {
      "cell_type": "markdown",
      "metadata": {
        "id": "YXs7hHSyuet2",
        "colab_type": "text"
      },
      "source": [
        "\n",
        "---\n",
        "# VIDEO: Frobenius dot-product\n",
        "---\n"
      ]
    },
    {
      "cell_type": "code",
      "metadata": {
        "id": "RCCmVC9Yuet2",
        "colab_type": "code",
        "colab": {
          "base_uri": "https://localhost:8080/",
          "height": 85
        },
        "outputId": "284dcc19-8246-48de-9f64-c140bd12d91e"
      },
      "source": [
        "# any matrix sizes\n",
        "m = 9\n",
        "n = 4\n",
        "\n",
        "# but the two matrices must be the same size\n",
        "A = np.random.randn(m,n)\n",
        "B = np.random.randn(m,n)\n",
        "# print(A), print('***********'), print(B)\n",
        "\n",
        "# first vectorize, then vector-dot-product\n",
        "Av = np.reshape( A,m*n, order='F' ) # order='F' reshapes by columns instead of by rows\n",
        "Bv = np.reshape( B,m*n, order='F' )\n",
        "frob_dp = np.dot( Av,Bv )\n",
        "# print(Av), print('*************'), print(Bv)\n",
        "\n",
        "# trace method\n",
        "frob_dp2 = np.trace( A.T@B )\n",
        "print(frob_dp2)\n",
        "print(frob_dp)\n",
        "\n",
        "# matrix norm\n",
        "Anorm  = np.linalg.norm(A,'fro')\n",
        "Anorm2 = np.sqrt( np.trace( A.T@A ) )\n",
        "print(Anorm)\n",
        "print(Anorm2)"
      ],
      "execution_count": null,
      "outputs": [
        {
          "output_type": "stream",
          "text": [
            "-1.9151781200094664\n",
            "-1.9151781200094675\n",
            "5.942010843483159\n",
            "5.9420108434831596\n"
          ],
          "name": "stdout"
        }
      ]
    },
    {
      "cell_type": "markdown",
      "metadata": {
        "id": "I4Ax1eELuet3",
        "colab_type": "text"
      },
      "source": [
        "# VIDEO: Matrix norms"
      ]
    },
    {
      "cell_type": "code",
      "metadata": {
        "id": "xn07Fjdguet4",
        "colab_type": "code",
        "colab": {
          "base_uri": "https://localhost:8080/",
          "height": 34
        },
        "outputId": "ddec1c8b-4fbc-4327-e2ab-071d1f97138e"
      },
      "source": [
        "# Create a matrix\n",
        "A = np.array([ [1,2,3], [4,5,6], [7,7,9] ])\n",
        "\n",
        "# optional orthogonal matrix to show that 2-norm is 1\n",
        "Q,R = np.linalg.qr(np.random.randn(5,5))\n",
        "# A = Q\n",
        "\n",
        "# Frobenius norm\n",
        "normFrob = np.linalg.norm(A,'fro')\n",
        "\n",
        "# induced 2-norm\n",
        "normInd2 = np.linalg.norm(A,2)\n",
        "# note: computed as below\n",
        "lamb = np.sqrt( np.max(np.linalg.eig(A.T@A)[0]) )\n",
        "\n",
        "# schatten p-norm\n",
        "p = 2\n",
        "s = np.linalg.svd(A)[1] # get singular values\n",
        "normSchat = np.sum(s**p)**(1/p)\n",
        "\n",
        "\n",
        "# % show all norms for comparison\n",
        "print(normFrob,normSchat,normInd2)\n"
      ],
      "execution_count": 5,
      "outputs": [
        {
          "output_type": "stream",
          "text": [
            "2.23606797749979 2.23606797749979 1.0\n"
          ],
          "name": "stdout"
        }
      ]
    },
    {
      "cell_type": "code",
      "metadata": {
        "id": "eCqm_Yx46tiY",
        "colab_type": "code",
        "colab": {
          "base_uri": "https://localhost:8080/",
          "height": 34
        },
        "outputId": "4a707aba-c831-4db6-a66f-e4c98aa9e164"
      },
      "source": [
        "m = 5\n",
        "A = np.random.randn(m,m)\n",
        "\n",
        "# make A symmetric\n",
        "A = A@A.T\n",
        "\n",
        "v = np.random.randn(m)\n",
        "w = np.random.rand(m)\n",
        "\n",
        "np.dot(A@v,w) - np.dot(v,A@w)"
      ],
      "execution_count": 9,
      "outputs": [
        {
          "output_type": "execute_result",
          "data": {
            "text/plain": [
              "0.0"
            ]
          },
          "metadata": {
            "tags": []
          },
          "execution_count": 9
        }
      ]
    },
    {
      "cell_type": "code",
      "metadata": {
        "id": "QTCkInfK-9K9",
        "colab_type": "code",
        "colab": {}
      },
      "source": [
        ""
      ],
      "execution_count": null,
      "outputs": []
    }
  ]
}