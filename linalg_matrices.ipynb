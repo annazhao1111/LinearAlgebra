{
  "nbformat": 4,
  "nbformat_minor": 0,
  "metadata": {
    "kernelspec": {
      "display_name": "Python 3",
      "language": "python",
      "name": "python3"
    },
    "language_info": {
      "codemirror_mode": {
        "name": "ipython",
        "version": 3
      },
      "file_extension": ".py",
      "mimetype": "text/x-python",
      "name": "python",
      "nbconvert_exporter": "python",
      "pygments_lexer": "ipython3",
      "version": "3.7.3"
    },
    "colab": {
      "name": "linalg_matrices.ipynb",
      "provenance": [],
      "include_colab_link": true
    }
  },
  "cells": [
    {
      "cell_type": "markdown",
      "metadata": {
        "id": "view-in-github",
        "colab_type": "text"
      },
      "source": [
        "<a href=\"https://colab.research.google.com/github/annazhao1111/LinearAlgebra/blob/master/linalg_matrices.ipynb\" target=\"_parent\"><img src=\"https://colab.research.google.com/assets/colab-badge.svg\" alt=\"Open In Colab\"/></a>"
      ]
    },
    {
      "cell_type": "code",
      "metadata": {
        "id": "wT7mcYtZYa_K",
        "colab_type": "code",
        "colab": {}
      },
      "source": [
        "import numpy as np"
      ],
      "execution_count": 1,
      "outputs": []
    },
    {
      "cell_type": "markdown",
      "metadata": {
        "id": "WSRQGf1nYa_O",
        "colab_type": "text"
      },
      "source": [
        "\n",
        "---\n",
        "# VIDEO: A zoo of matrices\n",
        "---\n"
      ]
    },
    {
      "cell_type": "code",
      "metadata": {
        "id": "mPdYCdVKYa_O",
        "colab_type": "code",
        "colab": {
          "base_uri": "https://localhost:8080/",
          "height": 782
        },
        "outputId": "9f49f0f3-cd12-40a2-fb0d-ecf7fc71cd61"
      },
      "source": [
        "\n",
        "# square vs. rectangular\n",
        "S = np.random.randn(5,5)\n",
        "R = np.random.randn(5,2) # 5 rows, 2 columns\n",
        "print(S), print(' ')\n",
        "print(R)\n",
        "\n",
        "# identity\n",
        "I = np.eye(3)\n",
        "print(I), print(' ')\n",
        "\n",
        "# zeros\n",
        "Z = np.zeros((4,4))\n",
        "Z2 = np.zeros((3,3), dtype=complex)\n",
        "print(Z), print(' ')\n",
        "print(Z2), print(' ')\n",
        "\n",
        "# diagonal\n",
        "D = np.diag([ 1, 2, 3, 5, 2 ])\n",
        "print(D), print(' ')\n",
        "\n",
        "# create triangular matrix from full matrices\n",
        "S = np.random.randn(5,5)\n",
        "U = np.triu(S)\n",
        "L = np.tril(S)\n",
        "print(L), print(' ')\n",
        "print(U), print(' ')\n",
        "\n",
        "# concatenate matrices (sizes must match!)\n",
        "A = np.random.randn(3,2)\n",
        "B = np.random.randn(3,4)\n",
        "C = np.concatenate((A,B),axis=1)\n",
        "print(C)"
      ],
      "execution_count": 4,
      "outputs": [
        {
          "output_type": "stream",
          "text": [
            "[[ 0.42641667  2.11530364 -0.95222922  0.53546121 -0.70077994]\n",
            " [ 0.11799246  0.34990376  0.55586826  1.32491956 -0.1338398 ]\n",
            " [ 0.17814464  2.14162075  0.2394032   1.15764432  0.45751535]\n",
            " [-0.11018612 -0.84231806 -0.6088762   1.3498159   1.7963812 ]\n",
            " [ 2.59523557 -0.73047081 -1.36329998 -0.23916458  1.06362841]]\n",
            " \n",
            "[[-0.58001664 -0.3201533 ]\n",
            " [ 2.19566674 -0.19118174]\n",
            " [ 1.77113152 -0.02726152]\n",
            " [-2.09282983  0.62533816]\n",
            " [ 0.37837264 -0.06301175]]\n",
            "[[1. 0. 0.]\n",
            " [0. 1. 0.]\n",
            " [0. 0. 1.]]\n",
            " \n",
            "[[0. 0. 0. 0.]\n",
            " [0. 0. 0. 0.]\n",
            " [0. 0. 0. 0.]\n",
            " [0. 0. 0. 0.]]\n",
            " \n",
            "[[0.+0.j 0.+0.j 0.+0.j]\n",
            " [0.+0.j 0.+0.j 0.+0.j]\n",
            " [0.+0.j 0.+0.j 0.+0.j]]\n",
            " \n",
            "[[1 0 0 0 0]\n",
            " [0 2 0 0 0]\n",
            " [0 0 3 0 0]\n",
            " [0 0 0 5 0]\n",
            " [0 0 0 0 2]]\n",
            " \n",
            "[[ 1.14784156  0.          0.          0.          0.        ]\n",
            " [-1.22643985 -0.07029184  0.          0.          0.        ]\n",
            " [-0.76118186 -0.17879301 -0.34962864  0.          0.        ]\n",
            " [-1.45814105  0.21379844 -0.26088611 -0.93602762  0.        ]\n",
            " [ 0.00748122 -0.08848524  0.7262454   0.72100152 -1.23769212]]\n",
            " \n",
            "[[ 1.14784156  0.17608859  1.15794684 -0.20949221 -0.43140381]\n",
            " [ 0.         -0.07029184  2.37772274  0.4677523  -1.41856178]\n",
            " [ 0.          0.         -0.34962864  0.17417082 -0.99126087]\n",
            " [ 0.          0.          0.         -0.93602762 -0.73493238]\n",
            " [ 0.          0.          0.          0.         -1.23769212]]\n",
            " \n",
            "[[-1.92950625  1.46172648 -0.42279678 -0.66352931 -0.48233346 -0.79890784]\n",
            " [ 0.53823303  0.68873762  0.80996427  0.035797   -1.73239513 -1.25136637]\n",
            " [-0.07333745  0.07282653  0.14326932 -1.872573   -1.33867648 -0.15895723]]\n"
          ],
          "name": "stdout"
        }
      ]
    },
    {
      "cell_type": "markdown",
      "metadata": {
        "id": "sQe6rhTfYa_R",
        "colab_type": "text"
      },
      "source": [
        "\n",
        "---\n",
        "# VIDEO: Matrix addition and subtraction\n",
        "---\n"
      ]
    },
    {
      "cell_type": "code",
      "metadata": {
        "id": "fQ3QOSGbYa_R",
        "colab_type": "code",
        "colab": {
          "base_uri": "https://localhost:8080/",
          "height": 221
        },
        "outputId": "01694e4a-f4e7-4929-a92a-e1815fabf15a"
      },
      "source": [
        "\n",
        "# create random matrices\n",
        "A = np.random.randn(5,4)\n",
        "B = np.random.randn(5,3)\n",
        "C = np.random.randn(5,4)\n",
        "\n",
        "# try to add them\n",
        "# A+B\n",
        "A+C\n",
        "\n",
        "\n",
        "\n",
        "# \"shifting\" a matrix\n",
        "l = .03 # lambda\n",
        "N = 5  # size of square matrix\n",
        "D = np.random.randn(N,N) # can only shift a square matrix\n",
        "\n",
        "Ds = D + l*np.eye(N)\n",
        "print(D), print(' '), print(Ds)"
      ],
      "execution_count": 5,
      "outputs": [
        {
          "output_type": "stream",
          "text": [
            "[[-0.81694092 -0.08377905 -1.9821972   0.32393868 -1.19994252]\n",
            " [ 1.46913977  0.06538328 -0.02759352 -0.79547641 -0.1832567 ]\n",
            " [ 1.13097963 -0.52132003  0.51185305 -1.89404003  0.44958639]\n",
            " [ 1.49269466 -0.02899099 -0.14774622 -0.84655099 -1.21963968]\n",
            " [ 0.58260571 -0.02757115  1.76220117  1.08792341  0.03652068]]\n",
            " \n",
            "[[-0.78694092 -0.08377905 -1.9821972   0.32393868 -1.19994252]\n",
            " [ 1.46913977  0.09538328 -0.02759352 -0.79547641 -0.1832567 ]\n",
            " [ 1.13097963 -0.52132003  0.54185305 -1.89404003  0.44958639]\n",
            " [ 1.49269466 -0.02899099 -0.14774622 -0.81655099 -1.21963968]\n",
            " [ 0.58260571 -0.02757115  1.76220117  1.08792341  0.06652068]]\n"
          ],
          "name": "stdout"
        },
        {
          "output_type": "execute_result",
          "data": {
            "text/plain": [
              "(None, None, None)"
            ]
          },
          "metadata": {
            "tags": []
          },
          "execution_count": 5
        }
      ]
    },
    {
      "cell_type": "markdown",
      "metadata": {
        "id": "8b6p-h2QYa_T",
        "colab_type": "text"
      },
      "source": [
        "\n",
        "---\n",
        "# VIDEO: Matrix-scalar multiplication\n",
        "---\n"
      ]
    },
    {
      "cell_type": "code",
      "metadata": {
        "id": "EsfHYrG7Ya_U",
        "colab_type": "code",
        "colab": {
          "base_uri": "https://localhost:8080/",
          "height": 85
        },
        "outputId": "6b3c7be3-249e-43f6-e64c-a2bd07e09597"
      },
      "source": [
        "# define matrix and scalar\n",
        "M = np.array([ [1, 2], [2, 5] ])\n",
        "s = 2\n",
        "\n",
        "# pre- and post-multiplication is the same:\n",
        "print( M*s )\n",
        "print( s*M )\n"
      ],
      "execution_count": 6,
      "outputs": [
        {
          "output_type": "stream",
          "text": [
            "[[ 2  4]\n",
            " [ 4 10]]\n",
            "[[ 2  4]\n",
            " [ 4 10]]\n"
          ],
          "name": "stdout"
        }
      ]
    },
    {
      "cell_type": "markdown",
      "metadata": {
        "id": "pK_mVOFrYa_W",
        "colab_type": "text"
      },
      "source": [
        "# VIDEO: Transpose"
      ]
    },
    {
      "cell_type": "code",
      "metadata": {
        "id": "uPc0w2-dYa_W",
        "colab_type": "code",
        "colab": {
          "base_uri": "https://localhost:8080/",
          "height": 238
        },
        "outputId": "af7f1a45-b1ba-463d-bc59-82446f6431db"
      },
      "source": [
        "M = np.array([ [1,2,3],\n",
        "               [2,3,4] ])\n",
        "\n",
        "print(M), print('')\n",
        "print(M.T), print('') # one transpose\n",
        "print(M.T.T), print('') # double-transpose returns the original matrix\n",
        "\n",
        "# can also use the function transpose\n",
        "print(np.transpose(M))"
      ],
      "execution_count": 7,
      "outputs": [
        {
          "output_type": "stream",
          "text": [
            "[[1 2 3]\n",
            " [2 3 4]]\n",
            "\n",
            "[[1 2]\n",
            " [2 3]\n",
            " [3 4]]\n",
            "\n",
            "[[1 2 3]\n",
            " [2 3 4]]\n",
            "\n",
            "[[1 2]\n",
            " [2 3]\n",
            " [3 4]]\n"
          ],
          "name": "stdout"
        }
      ]
    },
    {
      "cell_type": "code",
      "metadata": {
        "id": "iJGD7MHIYa_Z",
        "colab_type": "code",
        "colab": {
          "base_uri": "https://localhost:8080/",
          "height": 238
        },
        "outputId": "27b75278-1156-436b-bd50-9fa9d6d49458"
      },
      "source": [
        "# warning! be careful when using complex matrices\n",
        "C = np.array([ [4+1j , 3 , 2-4j] ])\n",
        "\n",
        "print(C), print('')\n",
        "print(C.T), print('')\n",
        "print(np.transpose(C)), print('')\n",
        "\n",
        "# Note: In MATLAB, the transpose is the Hermitian transpose; \n",
        "#       in Python, you need to call the Hermitian explicitly by first converting from an array into a matrix\n",
        "print(np.matrix(C).H) # note the sign flips!\n"
      ],
      "execution_count": 8,
      "outputs": [
        {
          "output_type": "stream",
          "text": [
            "[[4.+1.j 3.+0.j 2.-4.j]]\n",
            "\n",
            "[[4.+1.j]\n",
            " [3.+0.j]\n",
            " [2.-4.j]]\n",
            "\n",
            "[[4.+1.j]\n",
            " [3.+0.j]\n",
            " [2.-4.j]]\n",
            "\n",
            "[[4.-1.j]\n",
            " [3.-0.j]\n",
            " [2.+4.j]]\n"
          ],
          "name": "stdout"
        }
      ]
    },
    {
      "cell_type": "markdown",
      "metadata": {
        "id": "azTlHTdnYa_b",
        "colab_type": "text"
      },
      "source": [
        "\n",
        "---\n",
        "# VIDEO: Diagonal and trace\n",
        "---\n"
      ]
    },
    {
      "cell_type": "code",
      "metadata": {
        "id": "wsVRZ_buYa_b",
        "colab_type": "code",
        "colab": {
          "base_uri": "https://localhost:8080/",
          "height": 204
        },
        "outputId": "9956dbbb-58e7-4ee1-bda9-57c46eb1f0bf"
      },
      "source": [
        "\n",
        "M = np.round( 6*np.random.randn(4,4) )\n",
        "print(M), print(' ')\n",
        "# extract the diagonals\n",
        "d = np.diag(M)\n",
        "\n",
        "# notice the two ways of using the diag function\n",
        "d = np.diag(M) # input is matrix, output is vector\n",
        "D = np.diag(d) # input is vector, output is matrix\n",
        "print(d)\n",
        "print(D)\n",
        "\n",
        "# trace as sum of diagonal elements\n",
        "tr = np.trace(M)\n",
        "tr2 = sum( np.diag(M) )\n",
        "print(tr,tr2)"
      ],
      "execution_count": 9,
      "outputs": [
        {
          "output_type": "stream",
          "text": [
            "[[ -4.   5.   1.   0.]\n",
            " [  7.  -8.   6.  -6.]\n",
            " [ -2.   5. -10.  -3.]\n",
            " [ -4.   4.  -2.   5.]]\n",
            " \n",
            "[ -4.  -8. -10.   5.]\n",
            "[[ -4.   0.   0.   0.]\n",
            " [  0.  -8.   0.   0.]\n",
            " [  0.   0. -10.   0.]\n",
            " [  0.   0.   0.   5.]]\n",
            "-17.0 -17.0\n"
          ],
          "name": "stdout"
        }
      ]
    },
    {
      "cell_type": "code",
      "metadata": {
        "id": "XN3ENuLroKQI",
        "colab_type": "code",
        "colab": {
          "base_uri": "https://localhost:8080/",
          "height": 102
        },
        "outputId": "4ce7e738-6a4a-4f14-f167-97c1a2c45dfb"
      },
      "source": [
        "# whether the trace is linear\n",
        "\n",
        "# tr(A) + tr(B) == tr(A+B)?\n",
        "# tr(l*A) == l*tr(A)?\n",
        "\n",
        "m = 4\n",
        "n = 4\n",
        "\n",
        "A = np.random.randn(m, n)\n",
        "B = np.random.randn(m, n)\n",
        "l = np.random.rand()\n",
        "\n",
        "print('tr(A+B) = ' + str(np.trace(A+B)))\n",
        "print('tr(A)+tr(B) = ' + str(np.trace(A)+np.trace(B)))\n",
        "print('**************')\n",
        "\n",
        "print('tr(l*A) = ' + str(np.trace(l*A)))\n",
        "print('l*tr(A) = ' + str(l*np.trace(A)))"
      ],
      "execution_count": 10,
      "outputs": [
        {
          "output_type": "stream",
          "text": [
            "tr(A+B) = -0.7884482037649816\n",
            "tr(A)+tr(B) = -0.7884482037649817\n",
            "**************\n",
            "tr(l*A) = 0.08951598352222884\n",
            "l*tr(A) = 0.08951598352222885\n"
          ],
          "name": "stdout"
        }
      ]
    },
    {
      "cell_type": "markdown",
      "metadata": {
        "id": "LVnrgafYrd61",
        "colab_type": "text"
      },
      "source": [
        "\n",
        "---\n",
        "# VIDEO: Broadcasting matrix arithmetic\n",
        "---\n"
      ]
    },
    {
      "cell_type": "code",
      "metadata": {
        "id": "NeuklQd-qAvZ",
        "colab_type": "code",
        "colab": {
          "base_uri": "https://localhost:8080/",
          "height": 170
        },
        "outputId": "be1e4ef9-d88b-47e2-8410-5d1d2f69e2e5"
      },
      "source": [
        "# create a matrix\n",
        "A = np.reshape(np.arange(1,13),(3,4),'F') #F=column, C=row\n",
        "\n",
        "# and two vectors\n",
        "r = [10,20,30,40]\n",
        "c = [100,200,300]\n",
        "print(A), print('*********')\n",
        "print(r), print('*********')\n",
        "print(c), print('*********')"
      ],
      "execution_count": 11,
      "outputs": [
        {
          "output_type": "stream",
          "text": [
            "[[ 1  4  7 10]\n",
            " [ 2  5  8 11]\n",
            " [ 3  6  9 12]]\n",
            "*********\n",
            "[10, 20, 30, 40]\n",
            "*********\n",
            "[100, 200, 300]\n",
            "*********\n"
          ],
          "name": "stdout"
        },
        {
          "output_type": "execute_result",
          "data": {
            "text/plain": [
              "(None, None)"
            ]
          },
          "metadata": {
            "tags": []
          },
          "execution_count": 11
        }
      ]
    },
    {
      "cell_type": "code",
      "metadata": {
        "id": "hzOawhCgsBvF",
        "colab_type": "code",
        "colab": {
          "base_uri": "https://localhost:8080/",
          "height": 102
        },
        "outputId": "56c9e605-c291-486f-8b58-ccf5fc7cfd03"
      },
      "source": [
        "# broadcast on the rows\n",
        "print(A+r), print('***********')"
      ],
      "execution_count": 12,
      "outputs": [
        {
          "output_type": "stream",
          "text": [
            "[[11 24 37 50]\n",
            " [12 25 38 51]\n",
            " [13 26 39 52]]\n",
            "***********\n"
          ],
          "name": "stdout"
        },
        {
          "output_type": "execute_result",
          "data": {
            "text/plain": [
              "(None, None)"
            ]
          },
          "metadata": {
            "tags": []
          },
          "execution_count": 12
        }
      ]
    },
    {
      "cell_type": "code",
      "metadata": {
        "id": "VLde_phvs5PR",
        "colab_type": "code",
        "colab": {
          "base_uri": "https://localhost:8080/",
          "height": 136
        },
        "outputId": "9c0a1b50-b6ca-405c-8c87-01734ff58b6a"
      },
      "source": [
        "# broadcast on the colunms\n",
        "# print(A+c) # not work\n",
        "c_r = np.reshape(c, (len(c),1))\n",
        "print(c_r)\n",
        "print('*************')\n",
        "print(A+c_r)"
      ],
      "execution_count": 16,
      "outputs": [
        {
          "output_type": "stream",
          "text": [
            "[[100]\n",
            " [200]\n",
            " [300]]\n",
            "*************\n",
            "[[101 104 107 110]\n",
            " [202 205 208 211]\n",
            " [303 306 309 312]]\n"
          ],
          "name": "stdout"
        }
      ]
    },
    {
      "cell_type": "code",
      "metadata": {
        "id": "Ln6MsKVjtMoV",
        "colab_type": "code",
        "colab": {}
      },
      "source": [
        ""
      ],
      "execution_count": null,
      "outputs": []
    }
  ]
}