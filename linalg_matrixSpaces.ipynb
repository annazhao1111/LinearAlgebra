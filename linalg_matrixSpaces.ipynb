{
  "nbformat": 4,
  "nbformat_minor": 0,
  "metadata": {
    "kernelspec": {
      "display_name": "Python 3",
      "language": "python",
      "name": "python3"
    },
    "language_info": {
      "codemirror_mode": {
        "name": "ipython",
        "version": 3
      },
      "file_extension": ".py",
      "mimetype": "text/x-python",
      "name": "python",
      "nbconvert_exporter": "python",
      "pygments_lexer": "ipython3",
      "version": "3.7.3"
    },
    "colab": {
      "name": "linalg_matrixSpaces.ipynb",
      "provenance": [],
      "include_colab_link": true
    }
  },
  "cells": [
    {
      "cell_type": "markdown",
      "metadata": {
        "id": "view-in-github",
        "colab_type": "text"
      },
      "source": [
        "<a href=\"https://colab.research.google.com/github/annazhao1111/LinearAlgebra/blob/master/linalg_matrixSpaces.ipynb\" target=\"_parent\"><img src=\"https://colab.research.google.com/assets/colab-badge.svg\" alt=\"Open In Colab\"/></a>"
      ]
    },
    {
      "cell_type": "code",
      "metadata": {
        "id": "yNws0uBtTBiV",
        "colab_type": "code",
        "colab": {}
      },
      "source": [
        "import numpy as np\n",
        "import matplotlib.pyplot as plt\n",
        "import math\n",
        "from mpl_toolkits.mplot3d import Axes3D"
      ],
      "execution_count": 1,
      "outputs": []
    },
    {
      "cell_type": "markdown",
      "metadata": {
        "id": "KdSi_VX_TBiZ",
        "colab_type": "text"
      },
      "source": [
        "\n",
        "---\n",
        "# VIDEO: Column space of a matrix\n",
        "---\n"
      ]
    },
    {
      "cell_type": "code",
      "metadata": {
        "id": "PYQ_LgE3TBiZ",
        "colab_type": "code",
        "colab": {
          "base_uri": "https://localhost:8080/",
          "height": 248
        },
        "outputId": "ef696e31-ce50-4a04-82a2-a1c2ac232042"
      },
      "source": [
        "# matrix S\n",
        "S = np.array( [ [3,0],\n",
        "                [5,2],\n",
        "                [1,2] ] )\n",
        "\n",
        "# vector v\n",
        "# v = np.array([[-3], [1], [5]])\n",
        "v = np.array([[1], [7], [3]])\n",
        "\n",
        "\n",
        "fig = plt.figure()\n",
        "ax = fig.gca(projection='3d')\n",
        "\n",
        "# draw plane corresponding to the column space\n",
        "xx, yy = np.meshgrid(np.linspace(-5,5,10),np.linspace(-5,5,10))\n",
        "cp = np.cross(S[:,0],S[:,1])\n",
        "z1 = (-cp[0]*xx - cp[1]*yy)/cp[2]\n",
        "ax.plot_surface(xx,yy,z1,alpha=.2)\n",
        "\n",
        "\n",
        "## plot the two vectors from matrix S\n",
        "ax.plot([0, S[0,0]],[0, S[1,0]],[0, S[2,0]],'k')\n",
        "ax.plot([0, S[0,1]],[0, S[1,1]],[0, S[2,1]],'k')\n",
        "\n",
        "# and the vector v\n",
        "ax.plot([0, v[0]],[0, v[1]],[0, v[2]],'r')\n",
        "\n",
        "\n",
        "ax.view_init(elev=150,azim=0)\n",
        "plt.show()\n"
      ],
      "execution_count": 3,
      "outputs": [
        {
          "output_type": "display_data",
          "data": {
            "image/png": "[encoded data removed]",
            "text/plain": [
              "<Figure size 432x288 with 1 Axes>"
            ]
          },
          "metadata": {
            "tags": [],
            "needs_background": "light"
          }
        }
      ]
    },
    {
      "cell_type": "code",
      "metadata": {
        "id": "EX4eQATjUJ3h",
        "colab_type": "code",
        "colab": {}
      },
      "source": [
        ""
      ],
      "execution_count": null,
      "outputs": []
    }
  ]
}