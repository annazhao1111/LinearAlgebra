{
  "nbformat": 4,
  "nbformat_minor": 0,
  "metadata": {
    "kernelspec": {
      "display_name": "Python 3",
      "language": "python",
      "name": "python3"
    },
    "language_info": {
      "codemirror_mode": {
        "name": "ipython",
        "version": 3
      },
      "file_extension": ".py",
      "mimetype": "text/x-python",
      "name": "python",
      "nbconvert_exporter": "python",
      "pygments_lexer": "ipython3",
      "version": "3.7.3"
    },
    "colab": {
      "name": "linalg_matrixRank.ipynb",
      "provenance": [],
      "include_colab_link": true
    }
  },
  "cells": [
    {
      "cell_type": "markdown",
      "metadata": {
        "id": "view-in-github",
        "colab_type": "text"
      },
      "source": [
        "<a href=\"https://colab.research.google.com/github/annazhao1111/LinearAlgebra/blob/master/linalg_matrixRank.ipynb\" target=\"_parent\"><img src=\"https://colab.research.google.com/assets/colab-badge.svg\" alt=\"Open In Colab\"/></a>"
      ]
    },
    {
      "cell_type": "code",
      "metadata": {
        "id": "yujp4vdj5BPn",
        "colab_type": "code",
        "colab": {}
      },
      "source": [
        "import numpy as np\n",
        "import matplotlib.pyplot as plt\n",
        "import math"
      ],
      "execution_count": 1,
      "outputs": []
    },
    {
      "cell_type": "markdown",
      "metadata": {
        "id": "z85nBQwL5BPq",
        "colab_type": "text"
      },
      "source": [
        "\n",
        "---\n",
        "# VIDEO: Computing rank: theory and practice\n",
        "---\n"
      ]
    },
    {
      "cell_type": "code",
      "metadata": {
        "id": "5HGnER5F5BPr",
        "colab_type": "code",
        "colab": {
          "base_uri": "https://localhost:8080/",
          "height": 51
        },
        "outputId": "4a2b4126-f3a6-442e-9123-e09e75014e36"
      },
      "source": [
        "# make a matrix\n",
        "m = 4\n",
        "n = 6\n",
        "\n",
        "# create a random matrix\n",
        "A = np.random.randn(m,n)\n",
        "\n",
        "# what is the largest possible rank?\n",
        "ra = np.linalg.matrix_rank(A)\n",
        "print('rank = ' + str(ra))\n",
        "\n",
        "# set last column to be repeat of penultimate column\n",
        "B = A\n",
        "B[-1,:] = B[-2,:]\n",
        "\n",
        "rb = np.linalg.matrix_rank(B)\n",
        "print('rank = ' + str(rb))"
      ],
      "execution_count": 2,
      "outputs": [
        {
          "output_type": "stream",
          "text": [
            "rank = 4\n",
            "rank = 3\n"
          ],
          "name": "stdout"
        }
      ]
    },
    {
      "cell_type": "code",
      "metadata": {
        "id": "ALvngygK5BPt",
        "colab_type": "code",
        "colab": {
          "base_uri": "https://localhost:8080/",
          "height": 51
        },
        "outputId": "25c243fb-b77b-46e4-cd72-16181a5ae424"
      },
      "source": [
        "## adding noise to a rank-deficient matrix\n",
        "\n",
        "# square for convenience\n",
        "A = np.round( 10*np.random.randn(m,m) )\n",
        "\n",
        "# reduce the rank\n",
        "A[:,-1] = A[:,-2]\n",
        "\n",
        "# noise level\n",
        "noiseamp = .001\n",
        "\n",
        "# add the noise\n",
        "B = A + noiseamp*np.random.randn(m,m)\n",
        "\n",
        "print('rank (w/o noise) = ' + str(np.linalg.matrix_rank(A)))\n",
        "print('rank (with noise) = ' + str(np.linalg.matrix_rank(B)))\n"
      ],
      "execution_count": 3,
      "outputs": [
        {
          "output_type": "stream",
          "text": [
            "rank (w/o noise) = 3\n",
            "rank (with noise) = 4\n"
          ],
          "name": "stdout"
        }
      ]
    },
    {
      "cell_type": "markdown",
      "metadata": {
        "id": "Wf1GTwrU5BPw",
        "colab_type": "text"
      },
      "source": [
        "\n",
        "---\n",
        "# VIDEO: Rank of A^TA and AA^T\n",
        "---\n"
      ]
    },
    {
      "cell_type": "code",
      "metadata": {
        "id": "nDQLL5BA5BPw",
        "colab_type": "code",
        "colab": {
          "base_uri": "https://localhost:8080/",
          "height": 51
        },
        "outputId": "5b7124e9-325a-4255-bd8b-def6f337760e"
      },
      "source": [
        "# matrix sizes\n",
        "m = 14\n",
        "n =  3\n",
        "\n",
        "# create matrices\n",
        "A = np.round( 10*np.random.randn(m,n) )\n",
        "\n",
        "AtA = A.T@A\n",
        "AAt = A@A.T\n",
        "\n",
        "# get matrix sizes\n",
        "sizeAtA = AtA.shape\n",
        "sizeAAt = AAt.shape\n",
        "\n",
        "# print info!\n",
        "print('AtA: %dx%d, rank=%d' %(sizeAtA[0],sizeAtA[1],np.linalg.matrix_rank(AtA)))\n",
        "print('AAt: %dx%d, rank=%d' %(sizeAAt[0],sizeAAt[1],np.linalg.matrix_rank(AAt)))\n"
      ],
      "execution_count": 4,
      "outputs": [
        {
          "output_type": "stream",
          "text": [
            "AtA: 3x3, rank=3\n",
            "AAt: 14x14, rank=3\n"
          ],
          "name": "stdout"
        }
      ]
    },
    {
      "cell_type": "markdown",
      "metadata": {
        "id": "oZSmCDWG5BPy",
        "colab_type": "text"
      },
      "source": [
        "\n",
        "---\n",
        "# VIDEO: Making a matrix full-rank by \"shifting\"\n",
        "---\n"
      ]
    },
    {
      "cell_type": "code",
      "metadata": {
        "id": "d1V7kAEy5BPz",
        "colab_type": "code",
        "colab": {
          "base_uri": "https://localhost:8080/",
          "height": 51
        },
        "outputId": "6d19ab42-1d7e-4740-e568-f6da9ce18a83"
      },
      "source": [
        "# size of matrix\n",
        "m = 30\n",
        "\n",
        "# create the square symmetric matrix\n",
        "A = np.random.randn(m,m)\n",
        "A = np.round( 10*A.T@A )\n",
        "\n",
        "# reduce the rank\n",
        "A[:,0] = A[:,1]\n",
        "\n",
        "# shift amount (l=lambda)\n",
        "l = .01\n",
        "\n",
        "# new matrix\n",
        "B = A + l*np.eye(m,m)\n",
        "\n",
        "# print information\n",
        "print('rank(w/o shift) = %d' %np.linalg.matrix_rank(A))\n",
        "print('rank(with shift) = %d' %np.linalg.matrix_rank(B))\n"
      ],
      "execution_count": 5,
      "outputs": [
        {
          "output_type": "stream",
          "text": [
            "rank(w/o shift) = 29\n",
            "rank(with shift) = 30\n"
          ],
          "name": "stdout"
        }
      ]
    },
    {
      "cell_type": "code",
      "metadata": {
        "id": "nvZjvGnXLHVI",
        "colab_type": "code",
        "colab": {
          "base_uri": "https://localhost:8080/",
          "height": 340
        },
        "outputId": "a88b8674-032d-4f16-e6dc-fbbf9044233e"
      },
      "source": [
        "# determine whether this vector \n",
        "v = np.array([[1,2,3,4]]).T\n",
        "# print(v)\n",
        "\n",
        "# in the span of these sets?\n",
        "S = np.vstack(([4,3,6,2],[0,4,0,1])).T\n",
        "T = np.vstack(([1,2,2,2],[0,0,1,2])).T\n",
        "print(S)\n",
        "print(T)\n",
        "\n",
        "Sv = np.concatenate((S,v), axis=1)\n",
        "Tv = np.concatenate((T,v), axis=1)\n",
        "print(Sv)\n",
        "print(Tv)\n",
        "print('*************')\n",
        "print(np.linalg.matrix_rank(Sv))\n",
        "print(np.linalg.matrix_rank(Tv))"
      ],
      "execution_count": 10,
      "outputs": [
        {
          "output_type": "stream",
          "text": [
            "[[4 0]\n",
            " [3 4]\n",
            " [6 0]\n",
            " [2 1]]\n",
            "[[1 0]\n",
            " [2 0]\n",
            " [2 1]\n",
            " [2 2]]\n",
            "[[4 0 1]\n",
            " [3 4 2]\n",
            " [6 0 3]\n",
            " [2 1 4]]\n",
            "[[1 0 1]\n",
            " [2 0 2]\n",
            " [2 1 3]\n",
            " [2 2 4]]\n",
            "*************\n",
            "3\n",
            "2\n"
          ],
          "name": "stdout"
        }
      ]
    },
    {
      "cell_type": "code",
      "metadata": {
        "id": "0AsFDrekMAqW",
        "colab_type": "code",
        "colab": {}
      },
      "source": [
        ""
      ],
      "execution_count": null,
      "outputs": []
    }
  ]
}